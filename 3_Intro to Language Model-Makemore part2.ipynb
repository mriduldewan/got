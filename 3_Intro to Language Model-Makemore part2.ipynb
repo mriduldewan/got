{
 "cells": [
  {
   "cell_type": "markdown",
   "metadata": {},
   "source": [
    "# Introduction to Language Models - Makemore part 2"
   ]
  },
  {
   "attachments": {},
   "cell_type": "markdown",
   "metadata": {},
   "source": [
    "Character level language model that makes more of the training data that is sent to it\n"
   ]
  },
  {
   "cell_type": "code",
   "execution_count": 764,
   "metadata": {},
   "outputs": [],
   "source": [
    "# Import libraries\n",
    "import os\n",
    "import random\n",
    "from striprtf.striprtf import rtf_to_text\n",
    "import matplotlib.pyplot as plt\n",
    "%matplotlib inline\n",
    "\n",
    "import torch\n",
    "import torch.nn as nn\n",
    "from torch.nn import functional as F"
   ]
  },
  {
   "cell_type": "code",
   "execution_count": 765,
   "metadata": {},
   "outputs": [
    {
     "data": {
      "text/plain": [
       "<torch._C.Generator at 0x12755d1d0>"
      ]
     },
     "execution_count": 765,
     "metadata": {},
     "output_type": "execute_result"
    }
   ],
   "source": [
    "# Block containing all the hyperparameters\n",
    "block_size = 5 # Number of characters/tokens to be processed in the model\n",
    "batch_size = 32 # Number of blocks to be processed in parallel\n",
    "max_iters = 10000 # Num of iterations to train the model\n",
    "learning_rate = 0.1 # Learning rate \n",
    "n_embd = 2 # Num of dimensions in the embedding layer\n",
    "\n",
    "# Num of inputs to the hidden layer\n",
    "n_in = block_size * n_embd # Bexcause we have n_embd dimensional embeddings and we have 5 (block size) of them\n",
    "n_hidden = 128 # Num of neurons in the hidden layer. We can take any number we want. We are starting with 128\n",
    "n_biases = n_hidden # Num of biases in the hidden layer. Keeping 1 bias for each neuron\n",
    "\n",
    "device = torch.device(\"mps\" if torch.backends.mps.is_available() else \"cpu\") # For M1 Mac\n",
    "\n",
    "torch.manual_seed(42)"
   ]
  },
  {
   "cell_type": "code",
   "execution_count": 766,
   "metadata": {},
   "outputs": [
    {
     "data": {
      "text/plain": [
       "['emma',\n",
       " 'olivia',\n",
       " 'ava',\n",
       " 'isabella',\n",
       " 'sophia',\n",
       " 'charlotte',\n",
       " 'mia',\n",
       " 'amelia',\n",
       " 'harper',\n",
       " 'evelyn']"
      ]
     },
     "execution_count": 766,
     "metadata": {},
     "output_type": "execute_result"
    }
   ],
   "source": [
    "# Import input text file and read it line by line\n",
    "in_filepath = os.getcwd() + \"/data/in/MakeMore/\"\n",
    "with open(in_filepath+'input.rtf', 'r', encoding='utf-8') as f:\n",
    "    rtf = f.read()\n",
    "\n",
    "# Convert RTF to text\n",
    "text = rtf_to_text(rtf)\n",
    "\n",
    "# Split text as a list\n",
    "words = text.splitlines()\n",
    "words[:10]"
   ]
  },
  {
   "attachments": {},
   "cell_type": "markdown",
   "metadata": {},
   "source": [
    "## Part 1: Building the neural net"
   ]
  },
  {
   "cell_type": "code",
   "execution_count": 767,
   "metadata": {},
   "outputs": [],
   "source": [
    "# First, we create a simple vocabulary/ lookup table that maps each character to an integer and vice versa. \n",
    "chars = sorted(list(set(''.join(words))))\n",
    "\n",
    "# Create a simple iterator to convert the characters in our input text to integers and vice versa.\n",
    "stoi = {s:i+1 for i,s in enumerate(chars)}\n",
    "\n",
    "# Add indexes for the start and end tokens\n",
    "stoi['.'] = 0\n",
    "\n",
    "# Create an inverse dictionary to convert the integers back to characters\n",
    "itos = {i:s for s,i in stoi.items()}\n",
    "\n",
    "# Get total num of chars. This will be used heavily later\n",
    "num_chars = len(stoi)"
   ]
  },
  {
   "cell_type": "code",
   "execution_count": 768,
   "metadata": {},
   "outputs": [],
   "source": [
    "# ---- Common functions ----\n",
    "\n",
    "\n",
    "# Function to build the dataset\n",
    "def build_dataset(words, block_size):\n",
    "    # Initialize the input and output sequences\n",
    "    X, Y = [], []\n",
    "\n",
    "    # Create rolling windows of the input text to create the context and target sequences\n",
    "    for w in words:\n",
    "        #print(w)\n",
    "        context = block_size * [0]\n",
    "        \n",
    "        for ch in w + '.':\n",
    "            # Get the integer representation of the character\n",
    "            ix = stoi[ch]\n",
    "\n",
    "            # Add the integer to the input sequence\n",
    "            X.append(context.copy())\n",
    "\n",
    "            # Add the integer to the output sequence\n",
    "            Y.append(ix)\n",
    "            #print(''.join(itos[i] for i in context), '-->', itos[ix])\n",
    "            context = context[1:] + [ix] # Crop and append\n",
    "\n",
    "    # Convert to tensors\n",
    "    X = torch.tensor(X, dtype=torch.long, device=device)\n",
    "    Y = torch.tensor(Y, dtype=torch.long, device=device)\n",
    "    print(f'X shape: {X.shape}, Y shape: {Y.shape}')\n",
    "\n",
    "    # Return the input and output sequences\n",
    "    return X, Y\n",
    "\n",
    "\n",
    "# Function to reinitialize the weights and biases\n",
    "def reinitialize_weights(num_chars, n_embd, n_in, n_hidden, n_biases):\n",
    "    \n",
    "    g = torch.Generator(device=device).manual_seed(42) # For reproducibility\n",
    "    C = torch.randn((num_chars, n_embd), device=device, generator=g) # We use 2 because we just have 27 characters to deal with\n",
    "\n",
    "    # Create a random set of weights for the hidden layer\n",
    "    W1 = torch.randn((n_in, n_hidden), device=device, generator=g)\n",
    "    B1 = torch.randn((n_biases), device=device, generator=g)\n",
    "\n",
    "    # Create a random set of weights for the output layer\n",
    "    W2 = torch.randn((n_hidden, num_chars), device=device, generator=g)\n",
    "    B2 = torch.randn((num_chars), device=device, generator=g) # Create a random set of biases for the output layer\n",
    "\n",
    "    # Create an array to store the loss values\n",
    "    params = [C, W1, B1, W2, B2]\n",
    "    for param in params:\n",
    "        param.requires_grad = True # For params, set requires_grad to True (very important for the model training)\n",
    "\n",
    "    return params\n",
    "\n"
   ]
  },
  {
   "attachments": {},
   "cell_type": "markdown",
   "metadata": {},
   "source": [
    "We will create a block of characters this time. This is essentially - how many characters do we take to predict the next one"
   ]
  },
  {
   "cell_type": "code",
   "execution_count": 769,
   "metadata": {},
   "outputs": [
    {
     "name": "stdout",
     "output_type": "stream",
     "text": [
      "X shape: torch.Size([182625, 5]), Y shape: torch.Size([182625])\n",
      "X shape: torch.Size([22655, 5]), Y shape: torch.Size([22655])\n",
      "X shape: torch.Size([22866, 5]), Y shape: torch.Size([22866])\n"
     ]
    }
   ],
   "source": [
    "# Shuffle the words randomly\n",
    "random.seed(42) # For reproducibility\n",
    "random.shuffle(words)\n",
    "\n",
    "# Split pointers\n",
    "n1 = int(0.8 * len(words))\n",
    "n2 = int(0.9 * len(words))\n",
    "\n",
    "# Create the train, validation and test sets\n",
    "X_train, Y_train = build_dataset(words[:n1], block_size)\n",
    "X_val, Y_val = build_dataset(words[n1:n2], block_size)\n",
    "X_test, Y_test = build_dataset(words[n2:], block_size)"
   ]
  },
  {
   "cell_type": "code",
   "execution_count": 770,
   "metadata": {},
   "outputs": [],
   "source": [
    "# Create a dataset from the input and output sequences. Start by creating a TensorDataset of dimensions (num_chars, 2)\n",
    "# C = torch.randn((num_chars, 2), device=device) # We use 2 because we just have 27 characters to deal with\n",
    "\n",
    "# Create embedding layer for all the characters using torch indexing\n",
    "# emb = C[X_train] # handled inside the model\n",
    "\n",
    "# The shape of embedding layer should be (num_chars, block_size, 2). T\n",
    "# Essentially, for every context line, we have a 2D embedding\n",
    "# emb.shape"
   ]
  },
  {
   "attachments": {},
   "cell_type": "markdown",
   "metadata": {},
   "source": [
    "#### Constructing the hidden layer"
   ]
  },
  {
   "cell_type": "code",
   "execution_count": 771,
   "metadata": {},
   "outputs": [],
   "source": [
    "# ---- Moved to variables above ----\n",
    "\n",
    "# Num of inputs to the hidden layer\n",
    "#n_in = block_size * 2 # Bexcause we have 2 dimensional embeddings and we have 5 (block size) of them\n",
    "\n",
    "# Num of neurons in the hidden layer\n",
    "#n_hidden = 128 # We can take any number we want. We are starting with 128\n",
    "\n",
    "# Num of biases in the hidden layer\n",
    "#n_biases = n_hidden # Keeping 1 bias for each neuron\n",
    "\n",
    "# Create a random set of weights for the hidden layer\n",
    "#W1 = torch.randn((n_in, n_hidden), device=device)\n",
    "#B1 = torch.randn((n_biases), device=device)\n",
    "\n"
   ]
  },
  {
   "attachments": {},
   "cell_type": "markdown",
   "metadata": {},
   "source": [
    "Typically what we want to do is that we want to implement W @ x + B\n",
    "\n",
    "However, this is an issue as the dimension of W => (n_in, n_hidden) and that of X => (len(emb), block_size, 2)\n",
    "hence, we cannot simply multiply the terms. In order to multiply these terms, we need to reshape W. There are several ways to do this in PyTorch such as torch.cat, torch.unbind, etc. However, there is a much more efficient way to reshaping the tensors called \"view\". It is efficient as it is not changint he physical storage attributes, but just manipulating some 'metadata' of how it is represented. For example, a tensor having 18 elements will always be stored as a single array of 18 blocks, however we can write the same as \n",
    "\n",
    "All these shapes are considered valid since they multiply to the same number 18\n",
    "tnsr.view(18) == tnsr.view(9, 2) == tnsr.view(2, 9) == tnsr.view(3, 3, 2) == tnsr.view(6, 3) == tnsr.view(3, 2, 3)"
   ]
  },
  {
   "cell_type": "code",
   "execution_count": 772,
   "metadata": {},
   "outputs": [],
   "source": [
    "# Reshaping the tensors to make the matrix multiplication happen\n",
    "# emb_reshaped = emb.view(emb.shape[0], emb.shape[1] * emb.shape[2])\n",
    "\n",
    "# Hidden layer output = (input * weights) + biases\n",
    "# h = emb_reshaped @ W1 + B1\n",
    "\n",
    "# Pass the output of the hidden layer through a tanh activation function\n",
    "# h = torch.tanh(h)\n",
    "# print(f'Shape of hidden layer: {h.shape}')\n",
    "# h"
   ]
  },
  {
   "attachments": {},
   "cell_type": "markdown",
   "metadata": {},
   "source": [
    "#### Output layer\n",
    "\n",
    "The final layer (before output) will have 27 possible outputs i.e. 1 for each character. Based on the probabilities we get for each of the characters, we can then use a softmax function to give us a single character prediction"
   ]
  },
  {
   "cell_type": "code",
   "execution_count": 773,
   "metadata": {},
   "outputs": [],
   "source": [
    "# ---- Moved to variables above ----\n",
    "\n",
    "# Create a random set of weights for the output layer\n",
    "#W2 = torch.randn((n_hidden, num_chars), device=device)\n",
    "\n",
    "# Create a random set of biases for the output layer\n",
    "#B2 = torch.randn((num_chars), device=device)\n",
    "\n",
    "# Output layer output = (input * weights) + biases\n",
    "# logits = h @ W2 + B2\n",
    "# logits.shape"
   ]
  },
  {
   "cell_type": "code",
   "execution_count": 774,
   "metadata": {},
   "outputs": [],
   "source": [
    "# the next of steps are similar to the ones in Makemore part 1 notebook. Details are mentioned there about the steps\n",
    "# However, this time we will use the cross entropy loss function from the torch.nn.functional module instead of the commented steps below\n",
    "# Cross Entropy loss is much more efficient and faster than the formula above since it is implemented in C++ and is highly optimised. Cross entropy loss does not create any intermediate tensors and hence is more memory efficient.\n",
    "# Furthermore, the cross entropy loss function is more numerically stable than the formula above as it can handle very large positive and very large negative numbers\n",
    "# loss = F.cross_entropy(logits, Y)\n",
    "# loss\n",
    "\n",
    "# ---- Cross entropy replaces all the steps below in this code cell ----\n",
    "\n",
    "# Calculate the counts\n",
    "# counts = logits.exp() # Equivalent of N in Makemore part 1 i.e. generating the counts\n",
    "\n",
    "# Normalise the counts into a probability distribution\n",
    "# probs = counts / counts.sum(dim=1, keepdim=True) # Equivalent of P in Makemore part 1 i.e. generating the probabilities based on the counts\n",
    "# print(f'Shape of outputs layer: {probs.shape}')\n",
    "\n",
    "# Get the probability of the correct character\n",
    "# we use the Y tensor to get the correct character. For each row in the Y tensor, we get the corresponding probability from the probs tensor\n",
    "# probs =  probs[torch.arange(len(probs)), Y]\n",
    "\n",
    "# Calculate the loss (similar to the Makemore part 1 notebook loss calculation). Check MakeMore part 1 notebook for details behind the formula\n",
    "# loss = -probs.log().mean()"
   ]
  },
  {
   "attachments": {},
   "cell_type": "markdown",
   "metadata": {},
   "source": [
    "#### Create the complete neural net - Basic model\n",
    "\n",
    "Combining the steps above and putting them in a loop to train the network"
   ]
  },
  {
   "cell_type": "code",
   "execution_count": 775,
   "metadata": {},
   "outputs": [],
   "source": [
    "# ---- Model Functions ----\n",
    "\n",
    "# Create a function to calculate the loss and update the parameters\n",
    "def optimise_training_parameters(params, iters, lr_decay=False):\n",
    "    # Create an array to store the loss values\n",
    "    stepi = []\n",
    "    lossi = []\n",
    "    \n",
    "    # Get weights and biases\n",
    "    C = params[0]; W1 = params[1]; B1 = params[2]; W2 = params[3]; B2 = params[4]\n",
    "\n",
    "    # Calculate the gradients\n",
    "    for i in range(iters):\n",
    "\n",
    "        # Create a mini batch\n",
    "        # We do that by randomly selecting a batch size number of indices from the X tensor. We then use those indices to get the corresponding values from the X and Y tensors\n",
    "        # For example, if the batch size is 4 and the X tensor has 10 rows, then we will randomly select 4 indices from the X tensor. Let's say the indices are 2, 4, 6 and 8 (indices start from 0) \n",
    "        # Then we will use those indices to get the corresponding values from the X and Y tensors. For example, X[2] will give us the 3rd row of the X tensor and Y[2] will give us the 3rd row of the Y tensor\n",
    "        # We will repeat this process for the entire batch size. We will then use the mini batch to calculate the loss and update the parameters\n",
    "        batch_indexes = torch.randint(0, X_train.shape[0], (batch_size,), device=device)\n",
    "\n",
    "        # Forward pass\n",
    "        emb = C[X_train[batch_indexes]]\n",
    "        emb_reshaped = emb.view(emb.shape[0], emb.shape[1] * emb.shape[2])\n",
    "        h = emb_reshaped @ W1 + B1\n",
    "        h = torch.tanh(h)\n",
    "        logits = h @ W2 + B2\n",
    "        loss = F.cross_entropy(logits, Y_train[batch_indexes])\n",
    "\n",
    "        # Backward pass\n",
    "        for p in params:\n",
    "            p.grad = None\n",
    "        loss.backward()\n",
    "\n",
    "        # Update the parameters\n",
    "        if (i > max_iters * 0.8) & lr_decay==True: \n",
    "            lr=learning_rate*0.1 \n",
    "        else: \n",
    "            lr=learning_rate\n",
    "        for p in params:\n",
    "            p.data -= lr * p.grad\n",
    "        \n",
    "        # Track stats\n",
    "        stepi.append(i)\n",
    "        lossi.append(loss.log10().item())\n",
    "\n",
    "    # Print training loss\n",
    "    print(f'Loss after training {iters} iters = {loss}\\n')\n",
    "\n",
    "    # Return the loss values\n",
    "    return stepi, lossi, params\n",
    "\n",
    "\n",
    "# Calculate the loss on any complete dataset\n",
    "def model_loss(params, X, Y):\n",
    "    # Disable gradient tracking\n",
    "    # @torch.no_grad() is a Python decorator provided by PyTorch that can be used to temporarily disable gradient computation, which can save memory and computation time. \n",
    "    # When you apply this decorator to a function or a code block, any computation that involves gradients will not be tracked by PyTorch's autograd system, and no new \n",
    "    # computational graph nodes will be created. This can be useful in scenarios where you want to perform some computation without building up gradients in order to avoid \n",
    "    # memory overflow, or when you want to do inference on a pre-trained model without updating its parameters.\n",
    "    with torch.no_grad():\n",
    "        # Get weights and biases\n",
    "        C = params[0]; W1 = params[1]; B1 = params[2]; W2 = params[3]; B2 = params[4]\n",
    "        \n",
    "        emb = C[X]\n",
    "        emb_reshaped = emb.view(emb.shape[0], emb.shape[1] * emb.shape[2])\n",
    "        h = emb_reshaped @ W1 + B1\n",
    "        h = torch.tanh(h)\n",
    "        logits = h @ W2 + B2\n",
    "        loss = F.cross_entropy(logits, Y)\n",
    "    return loss\n",
    "\n",
    "\n",
    "# Generate sample output\n",
    "def generate_output_samples(num_samples, params):\n",
    "    # Get weights and biases\n",
    "    C = params[0]; W1 = params[1]; B1 = params[2]; W2 = params[3]; B2 = params[4]    \n",
    "    \n",
    "    for _ in range(num_samples):\n",
    "        out = []\n",
    "        context = block_size * [0]\n",
    "        while True:\n",
    "            emb = torch.tensor(C[context]) # 1 x block_size x dim\n",
    "            emb_reshaped = emb.view(1, -1)\n",
    "            h = emb_reshaped @ W1 + B1\n",
    "            h = torch.tanh(h)\n",
    "            logits = h @ W2 + B2\n",
    "            probs = F.softmax(logits, dim=1)\n",
    "            next_char = torch.multinomial(probs, num_samples=1, generator=g).item()\n",
    "            context = context[1:] + [next_char]\n",
    "            out.append(next_char)\n",
    "            if next_char == 0:\n",
    "                break\n",
    "        print(''.join([itos[i] for i in out]))\n",
    "\n"
   ]
  },
  {
   "cell_type": "code",
   "execution_count": 776,
   "metadata": {},
   "outputs": [
    {
     "name": "stdout",
     "output_type": "stream",
     "text": [
      "Loss after training 10000 iters = 2.476367473602295\n",
      "\n"
     ]
    }
   ],
   "source": [
    "# Create the parameters\n",
    "params = reinitialize_weights(num_chars=num_chars,n_embd=n_embd, n_in=n_in, n_hidden=n_hidden, n_biases=n_biases)\n",
    "\n",
    "# Train the model - Update the parameters\n",
    "stepi, lossi, tuned_params = optimise_training_parameters(params, max_iters, lr_decay=False)\n",
    "\n",
    "# Print the loss on the entire train set\n",
    "print(f'Loss on train set = {model_loss(tuned_params, X_train, Y_train)}')\n",
    "\n",
    "# Print the loss on the entire validation set\n",
    "print(f'Loss on validation set = {model_loss(tuned_params, X_val, Y_val)}')\n"
   ]
  },
  {
   "attachments": {},
   "cell_type": "markdown",
   "metadata": {},
   "source": [
    "We can see that the training and validation sets have similar losses. This indicates that there is no overfitting. This is likely due to the fact that this is a small model and is not powerful enough to be able to memorise all the data. We expect performance improvements by scaling up the model."
   ]
  },
  {
   "attachments": {},
   "cell_type": "markdown",
   "metadata": {},
   "source": [
    "To improve the model, the following aspects could be considered\n",
    "\n",
    " - Learning rate\n",
    " - Learning rate decay\n",
    " - Regularisation\n",
    " - Batch size\n",
    " - Block size\n",
    " - Number of iterations\n",
    "\n",
    "If these dont work, then we switch over to the architecture of the neural network\n",
    " - Number of layers\n",
    " - Number of neurons in each layer\n",
    " - Activation functions\n",
    " - Optimisers\n",
    "\n",
    "Another thing to look out for is the embedding size for each character as it could be limiting the model's ability to learn complex relationships between the characters\n",
    " - Embedding size \n",
    " \n",
    "We have created a 2 dimensional embedding for each word. We can increase the number of dimensions to create a higher dimensional embedding. This will help the model to learn more complex relationships between the words. However, this will increase the number of parameters in the model and will increase the training time. We need to find the right balance between the number of dimensions and the training time"
   ]
  },
  {
   "cell_type": "code",
   "execution_count": 780,
   "metadata": {},
   "outputs": [
    {
     "name": "stdout",
     "output_type": "stream",
     "text": [
      "diwam.\n",
      "jamiyah.\n",
      "fheid.\n",
      "kaim.\n",
      "yaklyn.\n",
      "myvinn.\n",
      "kohli.\n",
      "miuni.\n",
      "aisinzyn.\n",
      "iesla.\n"
     ]
    },
    {
     "name": "stderr",
     "output_type": "stream",
     "text": [
      "/var/folders/pj/3fn1xxdn4cz7gfp1g7pnb3dm0000gn/T/ipykernel_20017/2717808363.py:78: UserWarning: To copy construct from a tensor, it is recommended to use sourceTensor.clone().detach() or sourceTensor.clone().detach().requires_grad_(True), rather than torch.tensor(sourceTensor).\n",
      "  emb = torch.tensor(C[context]) # 1 x block_size x dim\n"
     ]
    }
   ],
   "source": [
    "# Generate samples based on the trained model\n",
    "generate_output_samples(10, tuned_params)"
   ]
  },
  {
   "attachments": {},
   "cell_type": "markdown",
   "metadata": {},
   "source": [
    "#### Tuning the model"
   ]
  },
  {
   "cell_type": "code",
   "execution_count": 782,
   "metadata": {},
   "outputs": [
    {
     "data": {
      "text/plain": [
       "[<matplotlib.lines.Line2D at 0x297a14790>]"
      ]
     },
     "execution_count": 782,
     "metadata": {},
     "output_type": "execute_result"
    },
    {
     "data": {
      "image/png": "[encoded data removed]",
      "text/plain": [
       "<Figure size 640x480 with 1 Axes>"
      ]
     },
     "metadata": {},
     "output_type": "display_data"
    }
   ],
   "source": [
    "# ---- Identifying an ideal learning rate ----\n",
    "\n",
    "# Reinitialize the parameters\n",
    "params = reinitialize_weights(num_chars=num_chars,n_embd=n_embd, n_in=n_in, n_hidden=n_hidden, n_biases=n_biases)\n",
    "\n",
    "# Create a range of learning rates. We will assume these to be exponents of the learning rates instead of the actual learning rates (to create a range of learning rates)\n",
    "lre = torch.linspace(-3, 0, 1000)\n",
    "lrs = 10 ** lre # We are essentially stepping linearly between the exponents of the learning rates (10^-3 to 10^0)\n",
    "# lrs\n",
    "\n",
    "# Create a list to store the loss values and learning rates\n",
    "losses = []\n",
    "learning_rates = []\n",
    "\n",
    "# Rerun the model from the beginning with the new learning rates\n",
    "for lr in lrs[:1000]:\n",
    "    # Get parameters\n",
    "    C = params[0]; W1 = params[1]; B1 = params[2]; W2 = params[3]; B2 = params[4]\n",
    "    \n",
    "    # Minibatch construct\n",
    "    batch_indexes = torch.randint(0, X_train.shape[0], (batch_size,), device=device)\n",
    "\n",
    "    # Forward pass\n",
    "    emb = C[X_train[batch_indexes]]\n",
    "    emb_reshaped = emb.view(emb.shape[0], emb.shape[1] * emb.shape[2])\n",
    "    h = emb_reshaped @ W1 + B1\n",
    "    h = torch.tanh(h)\n",
    "    logits = h @ W2 + B2\n",
    "    loss = F.cross_entropy(logits, Y_train[batch_indexes])\n",
    "\n",
    "    # Backward pass\n",
    "    for p in params:\n",
    "        p.grad = None\n",
    "    loss.backward()\n",
    "\n",
    "    # Update the parameters\n",
    "    for p in params:\n",
    "        p.data -= lr * p.grad\n",
    "\n",
    "    # Track stats\n",
    "    if loss.item() > 100:\n",
    "        losses.append(100)\n",
    "    else:\n",
    "        losses.append(loss.item())\n",
    "    learning_rates.append(lr)\n",
    "\n",
    "\n",
    "# Plot the learning rates vs the loss\n",
    "plt.plot(learning_rates, losses)"
   ]
  },
  {
   "attachments": {},
   "cell_type": "markdown",
   "metadata": {},
   "source": [
    "It looks like a learning rate of around 0.1 is where the loss seems to be low. We can try the model on those learning rates. Lets retrain the model on the new learning rate. We will train this model with 3 overall changes:\n",
    " - learning rate of 0.1\n",
    " - learning rate decay = True\n",
    " - increase the number of iters to 30,000"
   ]
  },
  {
   "cell_type": "code",
   "execution_count": 784,
   "metadata": {},
   "outputs": [
    {
     "name": "stdout",
     "output_type": "stream",
     "text": [
      "Loss after training 30000 iters = 2.1787257194519043\n",
      "\n",
      "Loss on train set = 2.331892251968384\n",
      "Loss on validation set = 2.3371872901916504\n"
     ]
    }
   ],
   "source": [
    "# Create the parameters\n",
    "params = reinitialize_weights(num_chars=num_chars,n_embd=n_embd, n_in=n_in, n_hidden=n_hidden, n_biases=n_biases)\n",
    "\n",
    "# Train the model - Update the parameters\n",
    "max_iters = 30000\n",
    "learning_rate = 0.1\n",
    "stepi, lossi, tuned_params = optimise_training_parameters(params, max_iters, lr_decay=True)\n",
    "\n",
    "# Print the loss on the entire train set\n",
    "print(f'Loss on train set = {model_loss(tuned_params, X_train, Y_train)}')\n",
    "\n",
    "# Print the loss on the entire validation set\n",
    "print(f'Loss on validation set = {model_loss(tuned_params, X_val, Y_val)}')"
   ]
  },
  {
   "cell_type": "code",
   "execution_count": 788,
   "metadata": {},
   "outputs": [
    {
     "name": "stdout",
     "output_type": "stream",
     "text": [
      "torch.Size([27, 2])\n"
     ]
    },
    {
     "data": {
      "image/png": "[encoded data removed]",
      "text/plain": [
       "<Figure size 1000x1000 with 1 Axes>"
      ]
     },
     "metadata": {},
     "output_type": "display_data"
    }
   ],
   "source": [
    "# ---- Embedding layer size ----\n",
    "\n",
    "# Create the parameters\n",
    "C = tuned_params[0]\n",
    "\n",
    "# Visualise the embedding vectors while they are 2 dimensional (i.e. dim = 2)\n",
    "plt.figure(figsize=(10, 10))\n",
    "plt.scatter(C[:, 0].data.cpu().numpy(), C[:, 1].data.cpu().numpy(), s=200)\n",
    "for i in range(C.shape[0]):\n",
    "    plt.text(C[i, 0].item(), C[i, 1].item(), itos[i], ha=\"center\", va=\"center\", color=\"white\", fontsize=10)\n",
    "plt.grid('minor')"
   ]
  },
  {
   "attachments": {},
   "cell_type": "markdown",
   "metadata": {},
   "source": [
    "There are some interesting observations to be made looking at the character embeddings in 2 dimensions. \n",
    "\n",
    " - '.' is interpretted as a standalone charcater and is places away from everything else\n",
    " - Vowels are grouped separately as well, which is good and they are also spaced away from each other. This implies that the current model can predict vowels and correctly. \n",
    " - Some characters such as 'q' can be predicted as well. This is probably due to the nature of their usage in english language. \n",
    "\n",
    "P.S:  Once we increase the dimensions of the embeddings, we will not be able to visualise the characters "
   ]
  },
  {
   "cell_type": "code",
   "execution_count": 789,
   "metadata": {},
   "outputs": [
    {
     "name": "stdout",
     "output_type": "stream",
     "text": [
      "Loss after training 100000 iters = 2.573564052581787\n",
      "\n",
      "Loss on train set = 2.2275779247283936\n",
      "Loss on validation set = 2.2439069747924805\n"
     ]
    }
   ],
   "source": [
    "# New set of model parameters based on tuning\n",
    "n_embd = 10\n",
    "learning_rate = 0.1\n",
    "n_hidden = 200 # Increasing the num of neuron to 200\n",
    "\n",
    "# New set of params for the the hidden layer\n",
    "n_in = block_size * n_embd # Beause we have n_embd dimensional embeddings and we have 5 (block size) of them\n",
    "n_biases = n_hidden # Num of biases in the hidden layer. Keeping 1 bias for each neuron\n",
    "\n",
    "# Parameters for the model\n",
    "params = reinitialize_weights(num_chars=num_chars,n_embd=n_embd, n_in=n_in, n_hidden=n_hidden, n_biases=n_biases)\n",
    "\n",
    "# Train the model - Update the parameters\n",
    "max_iters = 100000\n",
    "stepi, lossi, tuned_params = optimise_training_parameters(params, max_iters, lr_decay=True)\n",
    "\n",
    "# Print the loss on the entire train set\n",
    "print(f'Loss on train set = {model_loss(tuned_params, X_train, Y_train)}')\n",
    "\n",
    "# Print the loss on the entire validation set\n",
    "print(f'Loss on validation set = {model_loss(tuned_params, X_val, Y_val)}')\n"
   ]
  },
  {
   "cell_type": "code",
   "execution_count": 790,
   "metadata": {},
   "outputs": [
    {
     "data": {
      "text/plain": [
       "[<matplotlib.lines.Line2D at 0x2a08ee770>]"
      ]
     },
     "execution_count": 790,
     "metadata": {},
     "output_type": "execute_result"
    },
    {
     "data": {
      "image/png": "[encoded data removed]",
      "text/plain": [
       "<Figure size 640x480 with 1 Axes>"
      ]
     },
     "metadata": {},
     "output_type": "display_data"
    }
   ],
   "source": [
    "plt.plot(stepi, lossi)"
   ]
  },
  {
   "cell_type": "code",
   "execution_count": 792,
   "metadata": {},
   "outputs": [
    {
     "name": "stderr",
     "output_type": "stream",
     "text": [
      "/var/folders/pj/3fn1xxdn4cz7gfp1g7pnb3dm0000gn/T/ipykernel_20017/2717808363.py:78: UserWarning: To copy construct from a tensor, it is recommended to use sourceTensor.clone().detach() or sourceTensor.clone().detach().requires_grad_(True), rather than torch.tensor(sourceTensor).\n",
      "  emb = torch.tensor(C[context]) # 1 x block_size x dim\n"
     ]
    },
    {
     "name": "stdout",
     "output_type": "stream",
     "text": [
      "zalleria.\n",
      "avora.\n",
      "mantyn.\n",
      "teloah.\n",
      "koula.\n",
      "saoden.\n",
      "kaleolon.\n",
      "durlodaleey.\n",
      "yarvie.\n",
      "alsana.\n"
     ]
    }
   ],
   "source": [
    "# Generate samples from the trained model\n",
    "generate_output_samples(10, tuned_params)"
   ]
  },
  {
   "cell_type": "code",
   "execution_count": null,
   "metadata": {},
   "outputs": [],
   "source": []
  }
 ],
 "metadata": {
  "kernelspec": {
   "display_name": "Python 3",
   "language": "python",
   "name": "python3"
  },
  "language_info": {
   "codemirror_mode": {
    "name": "ipython",
    "version": 3
   },
   "file_extension": ".py",
   "mimetype": "text/x-python",
   "name": "python",
   "nbconvert_exporter": "python",
   "pygments_lexer": "ipython3",
   "version": "3.11.5"
  },
  "orig_nbformat": 4
 },
 "nbformat": 4,
 "nbformat_minor": 2
}
