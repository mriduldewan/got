{
  "nbformat": 4,
  "nbformat_minor": 0,
  "metadata": {
    "colab": {
      "provenance": [],
      "authorship_tag": "ABX9TyPwzvFevEoqMquYXRB6UxZT"
    },
    "kernelspec": {
      "name": "python3",
      "display_name": "Python 3"
    },
    "language_info": {
      "name": "python"
    }
  },
  "cells": [
    {
      "cell_type": "code",
      "execution_count": 1,
      "metadata": {
        "id": "HsK4KVbXCBHr"
      },
      "outputs": [],
      "source": [
        "import numpy as np\n",
        "import math\n",
        "import matplotlib.pyplot as plt\n",
        "%matplotlib inline"
      ]
    },
    {
      "cell_type": "code",
      "source": [
        "class Value:\n",
        "  def __init__(self, data, _children=(), _op='', label='') -> None:\n",
        "    self.data = data\n",
        "    self._prev = set(_children)\n",
        "    self._op = _op\n",
        "    self.label = label\n",
        "    self.grad = 0.0\n",
        "\n",
        "  def __repr__(self) -> str:\n",
        "    return f\"Value(data={self.data})\"\n",
        "\n",
        "  def __add__(self, other):\n",
        "    return Value(self.data + other.data, (self, other), '+')\n",
        "\n",
        "  def __mul__(self, other):\n",
        "    return Value(self.data * other.data, (self, other), '*')"
      ],
      "metadata": {
        "id": "thOIN1R-C6v2"
      },
      "execution_count": 67,
      "outputs": []
    },
    {
      "cell_type": "code",
      "source": [
        "a = Value(6.0); a.label = 'a'\n",
        "b = Value(2.0); b.label = 'b'\n",
        "c = Value(9.0); c.label = 'c'\n",
        "d = Value(5.0); d.label = 'd'\n",
        "e = Value(12.0); e.label = 'e'\n",
        "\n",
        "l  = (a+b); l.label = 'l'\n",
        "y = c * l; y.label = 'y'\n",
        "print(y)\n",
        "print(y._prev)\n",
        "print(y._op)\n",
        "print(y.label)"
      ],
      "metadata": {
        "colab": {
          "base_uri": "https://localhost:8080/"
        },
        "id": "aEyjHXQBGFgp",
        "outputId": "70aa6e75-72c6-4ec9-8e27-f48fb9176e94"
      },
      "execution_count": 68,
      "outputs": [
        {
          "output_type": "stream",
          "name": "stdout",
          "text": [
            "Value(data=72.0)\n",
            "{Value(data=8.0), Value(data=9.0)}\n",
            "*\n",
            "y\n"
          ]
        }
      ]
    },
    {
      "cell_type": "code",
      "source": [
        "from graphviz import Digraph\n",
        "\n",
        "def trace(root):\n",
        "  # Builds a set of all nodes and edges in a graph\n",
        "  nodes, edges = set(), set()\n",
        "\n",
        "  def build(v):\n",
        "    if v not in nodes:\n",
        "      nodes.add(v)\n",
        "      for child in v._prev:\n",
        "        edges.add((child, v))\n",
        "        build(child)\n",
        "\n",
        "  build(root)\n",
        "  return nodes, edges\n",
        "\n",
        "def draw_dot(root):\n",
        "  dot = Digraph(format='svg', graph_attr={'rankdir': 'LR'}) # LR = Left to Right\n",
        "\n",
        "  # Get nodes and edges in a set starting from the root\n",
        "  nodes, edges = trace(root)\n",
        "\n",
        "  for n in nodes:\n",
        "    uid = str(id(n))\n",
        "\n",
        "    # For any value in the graph, create a rectangular node for it\n",
        "    dot.node(name = uid, label = \"{%s | data %.4f | grad %.4f}\" % (n.label, n.data, n.grad), shape='record')\n",
        "\n",
        "    # Though not mandatory, we can add the operator to make the graph more intuitive\n",
        "    if n._op:\n",
        "      # if value is a result of some operation, create a new node for operation for it\n",
        "      dot.node(name = uid + n._op, label=n._op)\n",
        "      # and connect this node to it\n",
        "      dot.edge(uid + n._op, uid)\n",
        "\n",
        "  # Connect nodes via edges\n",
        "  for n1, n2 in edges:\n",
        "    # dot.edge(str(id(n1)), str(id(n2))) # Use this if you dont want the operator\n",
        "    dot.edge(str(id(n1)), str(id(n2)) + n2._op)\n",
        "\n",
        "  return dot\n",
        "\n"
      ],
      "metadata": {
        "id": "XeG167HyGIdg"
      },
      "execution_count": 69,
      "outputs": []
    },
    {
      "cell_type": "code",
      "source": [
        "# Visualise the forward pass\n",
        "draw_dot(y)"
      ],
      "metadata": {
        "colab": {
          "base_uri": "https://localhost:8080/",
          "height": 210
        },
        "id": "t8_PJgORMNU0",
        "outputId": "c2ec1019-15a4-4da4-a6ce-bffb9755ff06"
      },
      "execution_count": 70,
      "outputs": [
        {
          "output_type": "execute_result",
          "data": {
            "image/svg+xml": "<?xml version=\"1.0\" encoding=\"UTF-8\" standalone=\"no\"?>\n<!DOCTYPE svg PUBLIC \"-//W3C//DTD SVG 1.1//EN\"\n \"http://www.w3.org/Graphics/SVG/1.1/DTD/svg11.dtd\">\n<!-- Generated by graphviz version 2.43.0 (0)\n -->\n<!-- Title: %3 Pages: 1 -->\n<svg width=\"822pt\" height=\"127pt\"\n viewBox=\"0.00 0.00 822.00 127.00\" xmlns=\"http://www.w3.org/2000/svg\" xmlns:xlink=\"http://www.w3.org/1999/xlink\">\n<g id=\"graph0\" class=\"graph\" transform=\"scale(1 1) rotate(0) translate(4 123)\">\n<title>%3</title>\n<polygon fill=\"white\" stroke=\"transparent\" points=\"-4,4 -4,-123 818,-123 818,4 -4,4\"/>\n<!-- 140375343628832 -->\n<g id=\"node1\" class=\"node\">\n<title>140375343628832</title>\n<polygon fill=\"none\" stroke=\"black\" points=\"311,-82.5 311,-118.5 496,-118.5 496,-82.5 311,-82.5\"/>\n<text text-anchor=\"middle\" x=\"322.5\" y=\"-96.8\" font-family=\"Times,serif\" font-size=\"14.00\">c</text>\n<polyline fill=\"none\" stroke=\"black\" points=\"334,-82.5 334,-118.5 \"/>\n<text text-anchor=\"middle\" x=\"374\" y=\"-96.8\" font-family=\"Times,serif\" font-size=\"14.00\">data 9.0000</text>\n<polyline fill=\"none\" stroke=\"black\" points=\"414,-82.5 414,-118.5 \"/>\n<text text-anchor=\"middle\" x=\"455\" y=\"-96.8\" font-family=\"Times,serif\" font-size=\"14.00\">grad 0.0000</text>\n</g>\n<!-- 140375343816064* -->\n<g id=\"node4\" class=\"node\">\n<title>140375343816064*</title>\n<ellipse fill=\"none\" stroke=\"black\" cx=\"559\" cy=\"-72.5\" rx=\"27\" ry=\"18\"/>\n<text text-anchor=\"middle\" x=\"559\" y=\"-68.8\" font-family=\"Times,serif\" font-size=\"14.00\">*</text>\n</g>\n<!-- 140375343628832&#45;&gt;140375343816064* -->\n<g id=\"edge6\" class=\"edge\">\n<title>140375343628832&#45;&gt;140375343816064*</title>\n<path fill=\"none\" stroke=\"black\" d=\"M496.01,-83.81C505.49,-82.08 514.66,-80.41 522.9,-78.9\"/>\n<polygon fill=\"black\" stroke=\"black\" points=\"523.6,-82.33 532.81,-77.09 522.35,-75.45 523.6,-82.33\"/>\n</g>\n<!-- 140375343630128 -->\n<g id=\"node2\" class=\"node\">\n<title>140375343630128</title>\n<polygon fill=\"none\" stroke=\"black\" points=\"0,-55.5 0,-91.5 185,-91.5 185,-55.5 0,-55.5\"/>\n<text text-anchor=\"middle\" x=\"11.5\" y=\"-69.8\" font-family=\"Times,serif\" font-size=\"14.00\">b</text>\n<polyline fill=\"none\" stroke=\"black\" points=\"23,-55.5 23,-91.5 \"/>\n<text text-anchor=\"middle\" x=\"63\" y=\"-69.8\" font-family=\"Times,serif\" font-size=\"14.00\">data 2.0000</text>\n<polyline fill=\"none\" stroke=\"black\" points=\"103,-55.5 103,-91.5 \"/>\n<text text-anchor=\"middle\" x=\"144\" y=\"-69.8\" font-family=\"Times,serif\" font-size=\"14.00\">grad 0.0000</text>\n</g>\n<!-- 140375343822736+ -->\n<g id=\"node6\" class=\"node\">\n<title>140375343822736+</title>\n<ellipse fill=\"none\" stroke=\"black\" cx=\"248\" cy=\"-45.5\" rx=\"27\" ry=\"18\"/>\n<text text-anchor=\"middle\" x=\"248\" y=\"-41.8\" font-family=\"Times,serif\" font-size=\"14.00\">+</text>\n</g>\n<!-- 140375343630128&#45;&gt;140375343822736+ -->\n<g id=\"edge4\" class=\"edge\">\n<title>140375343630128&#45;&gt;140375343822736+</title>\n<path fill=\"none\" stroke=\"black\" d=\"M185.01,-56.81C194.49,-55.08 203.66,-53.41 211.9,-51.9\"/>\n<polygon fill=\"black\" stroke=\"black\" points=\"212.6,-55.33 221.81,-50.09 211.35,-48.45 212.6,-55.33\"/>\n</g>\n<!-- 140375343816064 -->\n<g id=\"node3\" class=\"node\">\n<title>140375343816064</title>\n<polygon fill=\"none\" stroke=\"black\" points=\"622,-54.5 622,-90.5 814,-90.5 814,-54.5 622,-54.5\"/>\n<text text-anchor=\"middle\" x=\"633.5\" y=\"-68.8\" font-family=\"Times,serif\" font-size=\"14.00\">y</text>\n<polyline fill=\"none\" stroke=\"black\" points=\"645,-54.5 645,-90.5 \"/>\n<text text-anchor=\"middle\" x=\"688.5\" y=\"-68.8\" font-family=\"Times,serif\" font-size=\"14.00\">data 72.0000</text>\n<polyline fill=\"none\" stroke=\"black\" points=\"732,-54.5 732,-90.5 \"/>\n<text text-anchor=\"middle\" x=\"773\" y=\"-68.8\" font-family=\"Times,serif\" font-size=\"14.00\">grad 0.0000</text>\n</g>\n<!-- 140375343816064*&#45;&gt;140375343816064 -->\n<g id=\"edge1\" class=\"edge\">\n<title>140375343816064*&#45;&gt;140375343816064</title>\n<path fill=\"none\" stroke=\"black\" d=\"M586.28,-72.5C593.78,-72.5 602.44,-72.5 611.67,-72.5\"/>\n<polygon fill=\"black\" stroke=\"black\" points=\"611.87,-76 621.87,-72.5 611.87,-69 611.87,-76\"/>\n</g>\n<!-- 140375343822736 -->\n<g id=\"node5\" class=\"node\">\n<title>140375343822736</title>\n<polygon fill=\"none\" stroke=\"black\" points=\"312.5,-27.5 312.5,-63.5 494.5,-63.5 494.5,-27.5 312.5,-27.5\"/>\n<text text-anchor=\"middle\" x=\"322.5\" y=\"-41.8\" font-family=\"Times,serif\" font-size=\"14.00\">l</text>\n<polyline fill=\"none\" stroke=\"black\" points=\"332.5,-27.5 332.5,-63.5 \"/>\n<text text-anchor=\"middle\" x=\"372.5\" y=\"-41.8\" font-family=\"Times,serif\" font-size=\"14.00\">data 8.0000</text>\n<polyline fill=\"none\" stroke=\"black\" points=\"412.5,-27.5 412.5,-63.5 \"/>\n<text text-anchor=\"middle\" x=\"453.5\" y=\"-41.8\" font-family=\"Times,serif\" font-size=\"14.00\">grad 0.0000</text>\n</g>\n<!-- 140375343822736&#45;&gt;140375343816064* -->\n<g id=\"edge5\" class=\"edge\">\n<title>140375343822736&#45;&gt;140375343816064*</title>\n<path fill=\"none\" stroke=\"black\" d=\"M494.68,-61.36C504.61,-63.11 514.23,-64.8 522.84,-66.32\"/>\n<polygon fill=\"black\" stroke=\"black\" points=\"522.36,-69.78 532.81,-68.07 523.57,-62.89 522.36,-69.78\"/>\n</g>\n<!-- 140375343822736+&#45;&gt;140375343822736 -->\n<g id=\"edge2\" class=\"edge\">\n<title>140375343822736+&#45;&gt;140375343822736</title>\n<path fill=\"none\" stroke=\"black\" d=\"M275.04,-45.5C283.06,-45.5 292.41,-45.5 302.35,-45.5\"/>\n<polygon fill=\"black\" stroke=\"black\" points=\"302.45,-49 312.45,-45.5 302.45,-42 302.45,-49\"/>\n</g>\n<!-- 140375345337328 -->\n<g id=\"node7\" class=\"node\">\n<title>140375345337328</title>\n<polygon fill=\"none\" stroke=\"black\" points=\"0,-0.5 0,-36.5 185,-36.5 185,-0.5 0,-0.5\"/>\n<text text-anchor=\"middle\" x=\"11.5\" y=\"-14.8\" font-family=\"Times,serif\" font-size=\"14.00\">a</text>\n<polyline fill=\"none\" stroke=\"black\" points=\"23,-0.5 23,-36.5 \"/>\n<text text-anchor=\"middle\" x=\"63\" y=\"-14.8\" font-family=\"Times,serif\" font-size=\"14.00\">data 6.0000</text>\n<polyline fill=\"none\" stroke=\"black\" points=\"103,-0.5 103,-36.5 \"/>\n<text text-anchor=\"middle\" x=\"144\" y=\"-14.8\" font-family=\"Times,serif\" font-size=\"14.00\">grad 0.0000</text>\n</g>\n<!-- 140375345337328&#45;&gt;140375343822736+ -->\n<g id=\"edge3\" class=\"edge\">\n<title>140375345337328&#45;&gt;140375343822736+</title>\n<path fill=\"none\" stroke=\"black\" d=\"M185.01,-34.6C194.49,-36.26 203.66,-37.88 211.9,-39.33\"/>\n<polygon fill=\"black\" stroke=\"black\" points=\"211.36,-42.78 221.81,-41.07 212.57,-35.89 211.36,-42.78\"/>\n</g>\n</g>\n</svg>\n",
            "text/plain": [
              "<graphviz.graphs.Digraph at 0x7fabae80d030>"
            ]
          },
          "metadata": {},
          "execution_count": 70
        }
      ]
    },
    {
      "cell_type": "code",
      "source": [],
      "metadata": {
        "id": "V6moUfHZNP0l"
      },
      "execution_count": null,
      "outputs": []
    }
  ]
}